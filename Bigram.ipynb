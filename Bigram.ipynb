{
 "cells": [
  {
   "cell_type": "markdown",
   "id": "9f63556a-9a0b-49ea-8172-6aa77fa0c787",
   "metadata": {},
   "source": [
    "# Generate nam (Bigram)\n",
    "A fun little project, to generate words automatically\n",
    "\n",
    "Based and fully inspired on [https://github.com/karpathy/makemore](https://github.com/karpathy/makemore)\n",
    "\n",
    "Just for learning pourposes\n",
    "\n",
    "\n",
    "It's split in two sections. Each section is a different way of approaching the same problem."
   ]
  },
  {
   "cell_type": "code",
   "execution_count": null,
   "id": "2ed1f6e6-8696-4cf5-8364-361e65b021e7",
   "metadata": {},
   "outputs": [],
   "source": []
  },
  {
   "cell_type": "code",
   "execution_count": 1,
   "id": "acc9a2c3-fff6-42e3-8264-0a1772ae14af",
   "metadata": {},
   "outputs": [
    {
     "name": "stdout",
     "output_type": "stream",
     "text": [
      "Defaulting to user installation because normal site-packages is not writeable\n",
      "Requirement already satisfied: torch in /home/a/.local/lib/python3.13/site-packages (2.8.0)\n",
      "Requirement already satisfied: filelock in /home/a/.local/lib/python3.13/site-packages (from torch) (3.17.0)\n",
      "Requirement already satisfied: typing-extensions>=4.10.0 in /home/a/.local/lib/python3.13/site-packages (from torch) (4.12.2)\n",
      "Requirement already satisfied: setuptools in /usr/lib/python3.13/site-packages (from torch) (74.1.3)\n",
      "Requirement already satisfied: sympy>=1.13.3 in /home/a/.local/lib/python3.13/site-packages (from torch) (1.13.3)\n",
      "Requirement already satisfied: networkx in /home/a/.local/lib/python3.13/site-packages (from torch) (3.5)\n",
      "Requirement already satisfied: jinja2 in /usr/lib/python3.13/site-packages (from torch) (3.1.6)\n",
      "Requirement already satisfied: fsspec in /home/a/.local/lib/python3.13/site-packages (from torch) (2025.2.0)\n",
      "Requirement already satisfied: nvidia-cuda-nvrtc-cu12==12.8.93 in /home/a/.local/lib/python3.13/site-packages (from torch) (12.8.93)\n",
      "Requirement already satisfied: nvidia-cuda-runtime-cu12==12.8.90 in /home/a/.local/lib/python3.13/site-packages (from torch) (12.8.90)\n",
      "Requirement already satisfied: nvidia-cuda-cupti-cu12==12.8.90 in /home/a/.local/lib/python3.13/site-packages (from torch) (12.8.90)\n",
      "Requirement already satisfied: nvidia-cudnn-cu12==9.10.2.21 in /home/a/.local/lib/python3.13/site-packages (from torch) (9.10.2.21)\n",
      "Requirement already satisfied: nvidia-cublas-cu12==12.8.4.1 in /home/a/.local/lib/python3.13/site-packages (from torch) (12.8.4.1)\n",
      "Requirement already satisfied: nvidia-cufft-cu12==11.3.3.83 in /home/a/.local/lib/python3.13/site-packages (from torch) (11.3.3.83)\n",
      "Requirement already satisfied: nvidia-curand-cu12==10.3.9.90 in /home/a/.local/lib/python3.13/site-packages (from torch) (10.3.9.90)\n",
      "Requirement already satisfied: nvidia-cusolver-cu12==11.7.3.90 in /home/a/.local/lib/python3.13/site-packages (from torch) (11.7.3.90)\n",
      "Requirement already satisfied: nvidia-cusparse-cu12==12.5.8.93 in /home/a/.local/lib/python3.13/site-packages (from torch) (12.5.8.93)\n",
      "Requirement already satisfied: nvidia-cusparselt-cu12==0.7.1 in /home/a/.local/lib/python3.13/site-packages (from torch) (0.7.1)\n",
      "Requirement already satisfied: nvidia-nccl-cu12==2.27.3 in /home/a/.local/lib/python3.13/site-packages (from torch) (2.27.3)\n",
      "Requirement already satisfied: nvidia-nvtx-cu12==12.8.90 in /home/a/.local/lib/python3.13/site-packages (from torch) (12.8.90)\n",
      "Requirement already satisfied: nvidia-nvjitlink-cu12==12.8.93 in /home/a/.local/lib/python3.13/site-packages (from torch) (12.8.93)\n",
      "Requirement already satisfied: nvidia-cufile-cu12==1.13.1.3 in /home/a/.local/lib/python3.13/site-packages (from torch) (1.13.1.3)\n",
      "Requirement already satisfied: triton==3.4.0 in /home/a/.local/lib/python3.13/site-packages (from torch) (3.4.0)\n",
      "Requirement already satisfied: mpmath<1.4,>=1.1.0 in /home/a/.local/lib/python3.13/site-packages (from sympy>=1.13.3->torch) (1.3.0)\n",
      "Requirement already satisfied: MarkupSafe>=2.0 in /usr/lib64/python3.13/site-packages (from jinja2->torch) (3.0.2)\n",
      "Defaulting to user installation because normal site-packages is not writeable\n",
      "Requirement already satisfied: matplotlib in /usr/lib64/python3.13/site-packages (3.10.6)\n",
      "Requirement already satisfied: contourpy>=1.0.1 in /usr/lib64/python3.13/site-packages (from matplotlib) (1.3.3)\n",
      "Requirement already satisfied: cycler>=0.10 in /usr/lib/python3.13/site-packages (from matplotlib) (0.11.0)\n",
      "Requirement already satisfied: fonttools>=4.22.0 in /usr/lib64/python3.13/site-packages (from matplotlib) (4.56.0)\n",
      "Requirement already satisfied: kiwisolver>=1.3.1 in /usr/lib64/python3.13/site-packages (from matplotlib) (1.4.9)\n",
      "Requirement already satisfied: numpy>=1.23 in /home/a/.local/lib/python3.13/site-packages (from matplotlib) (2.2.3)\n",
      "Requirement already satisfied: packaging>=20.0 in /usr/lib/python3.13/site-packages (from matplotlib) (24.2)\n",
      "Requirement already satisfied: pillow>=8 in /usr/lib64/python3.13/site-packages (from matplotlib) (11.1.0)\n",
      "Requirement already satisfied: pyparsing>=2.3.1 in /home/a/.local/lib/python3.13/site-packages (from matplotlib) (3.2.1)\n",
      "Requirement already satisfied: python-dateutil>=2.7 in /usr/lib/python3.13/site-packages (from matplotlib) (2.8.2)\n",
      "Requirement already satisfied: six>=1.5 in /usr/lib/python3.13/site-packages (from python-dateutil>=2.7->matplotlib) (1.17.0)\n",
      "\n",
      "\n",
      "\u001b7\u001b[1A\u001b[1G\u001b[27G[Files: 0  Bytes: 0  [0 B/s] Re]\u001b8\u001b7\u001b[2A\u001b[1G\u001b[27G[https://gist.githubusercontent]\u001b8\u001b7\u001b[1S\u001b[3A\u001b[1G\u001b[0JSaving 'last-names.txt.5'\n",
      "\u001b8\u001b7\u001b[2A\u001b[1Glast-names.txt.5     100% [=============================>]  679.12K    --.-KB/s\u001b8\u001b7\u001b[1S\u001b[3A\u001b[1G\u001b[0JHTTP response 200  [https://gist.githubusercontent.com/craigmartin97/e98a9e2a267c379e47be1191d9431de2/raw/c09c7356e85e39e41faa92a665b7ef0b3b840b6a/last-names.txt]\n",
      "\u001b8\u001b7\u001b[2A\u001b[1Glast-names.txt.5     100% [=============================>]  679.12K    --.-KB/s\u001b8\u001b7\u001b[1A\u001b[1G\u001b[27G[Files: 1  Bytes: 679.12K [704.]\u001b8\u001b[m\u001b[m\u001b[m\u001b[m"
     ]
    }
   ],
   "source": [
    "!pip install torch\n",
    "!pip install matplotlib\n",
    "!wget https://gist.githubusercontent.com/craigmartin97/e98a9e2a267c379e47be1191d9431de2/raw/c09c7356e85e39e41faa92a665b7ef0b3b840b6a/last-names.txt"
   ]
  },
  {
   "cell_type": "code",
   "execution_count": 2,
   "id": "695e7cf1-8697-44d6-a4c7-7d3eb40c992a",
   "metadata": {},
   "outputs": [],
   "source": [
    "import numpy as np\n",
    "import torch"
   ]
  },
  {
   "cell_type": "markdown",
   "id": "2b52b88e-a5c1-49a4-b4c3-94493ebeec91",
   "metadata": {},
   "source": [
    "## Create and prepare the dataset"
   ]
  },
  {
   "cell_type": "code",
   "execution_count": 3,
   "id": "0d476e38-d5d6-4ac6-9d30-1e9a5c18c4a6",
   "metadata": {},
   "outputs": [
    {
     "data": {
      "text/plain": [
       "['.SMITH.',\n",
       " '.JOHNSON.',\n",
       " '.WILLIAMS.',\n",
       " '.JONES.',\n",
       " '.BROWN.',\n",
       " '.DAVIS.',\n",
       " '.MILLER.',\n",
       " '.WILSON.',\n",
       " '.MOORE.',\n",
       " '.TAYLOR.']"
      ]
     },
     "execution_count": 3,
     "metadata": {},
     "output_type": "execute_result"
    }
   ],
   "source": [
    "text = open(\"last-names.txt\").read()\n",
    "raw_names = text.splitlines()\n",
    "raw_names = [\".\" + name + \".\" for name in raw_names]\n",
    "vocab = sorted(list(set(text + \".\")))\n",
    "raw_names[:10]"
   ]
  },
  {
   "cell_type": "code",
   "execution_count": 4,
   "id": "e8f0eee7-0316-4a9a-98bf-54c2c6f3470b",
   "metadata": {},
   "outputs": [
    {
     "data": {
      "text/plain": [
       "{0: '\\n',\n",
       " 1: '.',\n",
       " 2: 'A',\n",
       " 3: 'B',\n",
       " 4: 'C',\n",
       " 5: 'D',\n",
       " 6: 'E',\n",
       " 7: 'F',\n",
       " 8: 'G',\n",
       " 9: 'H',\n",
       " 10: 'I',\n",
       " 11: 'J',\n",
       " 12: 'K',\n",
       " 13: 'L',\n",
       " 14: 'M',\n",
       " 15: 'N',\n",
       " 16: 'O',\n",
       " 17: 'P',\n",
       " 18: 'Q',\n",
       " 19: 'R',\n",
       " 20: 'S',\n",
       " 21: 'T',\n",
       " 22: 'U',\n",
       " 23: 'V',\n",
       " 24: 'W',\n",
       " 25: 'X',\n",
       " 26: 'Y',\n",
       " 27: 'Z'}"
      ]
     },
     "execution_count": 4,
     "metadata": {},
     "output_type": "execute_result"
    }
   ],
   "source": [
    "itc = dict(list(enumerate(vocab)))\n",
    "cti = {v: k for k, v in itc.items()}\n",
    "itc\n"
   ]
  },
  {
   "cell_type": "code",
   "execution_count": 5,
   "id": "9240994f-5d9d-49c3-b57b-60dab0c6f9a3",
   "metadata": {},
   "outputs": [],
   "source": [
    "names = [list(name) for name in raw_names]\n",
    "tokens = [[cti[token] for token in name] for name in names]\n",
    "pairs = []\n",
    "for name in tokens:\n",
    "    pairs.extend(list(zip(name, name[1:])))\n",
    "X = [pair[0] for pair in pairs]\n",
    "labels = [pair[1] for pair in pairs]"
   ]
  },
  {
   "cell_type": "code",
   "execution_count": 6,
   "id": "f093ea45-8daa-4b6d-b90e-10fa5d574de0",
   "metadata": {},
   "outputs": [],
   "source": [
    "from collections import Counter\n",
    "counter = Counter(pairs)"
   ]
  },
  {
   "cell_type": "code",
   "execution_count": 7,
   "id": "3b06fe6b-732c-4cd2-a5f9-f4412f8e296c",
   "metadata": {},
   "outputs": [
    {
     "name": "stdout",
     "output_type": "stream",
     "text": [
      "28\n"
     ]
    },
    {
     "data": {
      "text/plain": [
       "<matplotlib.image.AxesImage at 0x7f868ad9e510>"
      ]
     },
     "execution_count": 7,
     "metadata": {},
     "output_type": "execute_result"
    },
    {
     "data": {
      "image/png": "[encoded data removed]",
      "text/plain": [
       "<Figure size 200x200 with 1 Axes>"
      ]
     },
     "metadata": {},
     "output_type": "display_data"
    }
   ],
   "source": [
    "import matplotlib.pyplot as plt\n",
    "plt.style.use('_mpl-gallery-nogrid')\n",
    "\n",
    "fig, ax = plt.subplots()\n",
    "\n",
    "canvas = np.zeros((len(itc), len(itc)))\n",
    "print(len(itc))\n",
    "\n",
    "for key, value in counter.items():\n",
    "    canvas[key[0],key[1]] = value\n",
    "ax.imshow(canvas)\n"
   ]
  },
  {
   "cell_type": "markdown",
   "id": "9e163104-4be8-4e55-88ad-dccc1b02f318",
   "metadata": {},
   "source": [
    "## Create pair probability matrix (canvas)"
   ]
  },
  {
   "cell_type": "code",
   "execution_count": 8,
   "id": "30067c0b-608f-4ba6-8543-a326eeb6ca30",
   "metadata": {},
   "outputs": [],
   "source": [
    "mat = torch.tensor(canvas)\n",
    "mat += 1\n",
    "sums = mat.sum(1).unsqueeze(-1)\n",
    "mat = mat / sums"
   ]
  },
  {
   "cell_type": "code",
   "execution_count": 20,
   "id": "16581015-013b-4af8-94d9-b29e6411bde9",
   "metadata": {},
   "outputs": [
    {
     "name": "stdout",
     "output_type": "stream",
     "text": [
      "loss=tensor([2.9193], dtype=torch.float64)\n",
      "out='ROSAWAWSESKSHARINTTLSAIEKIT'\n"
     ]
    }
   ],
   "source": [
    "last = 1\n",
    "loss = 0\n",
    "ix = 0\n",
    "out = \"\"\n",
    "while True:\n",
    "    y = torch.multinomial(mat[last, :], num_samples=1, replacement=True)\n",
    "    # y = torch.rand(1) * len(itc) // 1\n",
    "    prob = mat[last, y]\n",
    "    loss += torch.log(prob)\n",
    "    last = int(y.item())\n",
    "    \n",
    "    if y == 1:\n",
    "        break\n",
    "    ix += 1\n",
    "\n",
    "    out += itc[last]\n",
    "mat[1, y]\n",
    "loss /= -ix\n",
    "print(f\"{loss=}\")\n",
    "print(f\"{out=}\")"
   ]
  },
  {
   "cell_type": "markdown",
   "id": "78ca1a7c-bf4a-4fe9-a7f7-12f20f278dc5",
   "metadata": {},
   "source": [
    "## Now with ML\n",
    "Now the same thing, but instead of generating the pair probability matrix manually, lets learn it"
   ]
  },
  {
   "cell_type": "code",
   "execution_count": 10,
   "id": "72bacd24-5048-4723-9ade-416a0e9df7ba",
   "metadata": {},
   "outputs": [
    {
     "name": "stdout",
     "output_type": "stream",
     "text": [
      "torch.Size([200000])\n"
     ]
    },
    {
     "name": "stderr",
     "output_type": "stream",
     "text": [
      "/tmp/ipykernel_46346/3294076015.py:9: UserWarning: To copy construct from a tensor, it is recommended to use sourceTensor.detach().clone() or sourceTensor.detach().clone().requires_grad_(True), rather than torch.tensor(sourceTensor).\n",
      "  xenc = F.one_hot(torch.tensor(X),len(itc)) / 1.0\n"
     ]
    },
    {
     "name": "stdout",
     "output_type": "stream",
     "text": [
      "3.8274340629577637\n",
      "2.9393484592437744\n",
      "2.759223699569702\n",
      "2.6847751140594482\n",
      "2.6437957286834717\n",
      "2.618095636367798\n",
      "2.601090431213379\n",
      "2.5893406867980957\n",
      "2.58079195022583\n",
      "2.574251174926758\n",
      "2.569049596786499\n",
      "2.5647997856140137\n",
      "2.5612595081329346\n",
      "2.5582680702209473\n",
      "2.5557096004486084\n",
      "2.553499221801758\n",
      "2.5515713691711426\n",
      "2.5498764514923096\n",
      "2.548375129699707\n",
      "2.547037124633789\n"
     ]
    }
   ],
   "source": [
    "import torch.nn.functional as F\n",
    "num = 200000\n",
    "X = torch.tensor(X[:num])\n",
    "y = torch.tensor(labels[:num])\n",
    "print(X.shape)\n",
    "W = torch.randn((len(itc), len(itc)), requires_grad=True)\n",
    "\n",
    "for i in range(100):\n",
    "    xenc = F.one_hot(torch.tensor(X),len(itc)) / 1.0\n",
    "    logits = xenc @ W\n",
    "    counts = logits.exp()\n",
    "    probs = counts / counts.sum(1, keepdims=True)\n",
    "\n",
    "    nll = -probs[torch.arange(num), y].log().mean()\n",
    "    W.grad = None\n",
    "    nll.backward()    \n",
    "    W.data -= W.grad * 50\n",
    "    if i % 5 == 0:\n",
    "        print(nll.item())\n",
    "\n"
   ]
  },
  {
   "cell_type": "code",
   "execution_count": 11,
   "id": "c60b2f45-af35-44cc-8565-858c238ff255",
   "metadata": {},
   "outputs": [
    {
     "data": {
      "text/plain": [
       "Text(0.5, 1.0, 'Manual matrix')"
      ]
     },
     "execution_count": 11,
     "metadata": {},
     "output_type": "execute_result"
    },
    {
     "data": {
      "image/png": "[encoded data removed]",
      "text/plain": [
       "<Figure size 1000x600 with 2 Axes>"
      ]
     },
     "metadata": {},
     "output_type": "display_data"
    }
   ],
   "source": [
    "fig, ax = plt.subplots(nrows=1, ncols=2,figsize=(10, 6))\n",
    "\n",
    "W_norm = W.exp() / W.exp().sum(1,keepdims=True)\n",
    "plt.subplots_adjust(wspace=0.4) \n",
    "ax[0].imshow(W_norm.detach().numpy())\n",
    "ax[0].set_title(\"ML Matrix \", fontsize=16)\n",
    "\n",
    "ax[1].imshow(canvas)\n",
    "ax[1].set_title(\"Manual matrix\", fontsize=16)\n"
   ]
  },
  {
   "cell_type": "markdown",
   "id": "f9fdd814-708e-48f8-b68c-395140d392c9",
   "metadata": {},
   "source": [
    "The results we get with ML. We can see that the results are almost the same as the ones generated with the manual matrix\n",
    "\n",
    "If we trained for longer, the learned matrix would be basically equivalent"
   ]
  },
  {
   "cell_type": "markdown",
   "id": "16c9dd3f-e64f-492b-b96b-9a0425ea814f",
   "metadata": {},
   "source": [
    "Here are some words generated by the ML matrix:"
   ]
  },
  {
   "cell_type": "code",
   "execution_count": 12,
   "id": "d54a5904-c75a-40f2-9fda-13fdd3bf5084",
   "metadata": {},
   "outputs": [
    {
     "name": "stdout",
     "output_type": "stream",
     "text": [
      "out='QUNEERNTOBECE'\n"
     ]
    }
   ],
   "source": [
    "last = 1\n",
    "loss = 0\n",
    "ix = 0\n",
    "out = \"\"\n",
    "while True:\n",
    "    xenc = F.one_hot(torch.tensor([last]),len(itc)) / 1.0\n",
    "    y = xenc @ W\n",
    "    s = F.softmax(y, 1)\n",
    "    y = torch.multinomial(s[0], num_samples=1, replacement=True)\n",
    "    # y = torch.rand(1) * len(itc) // 1\n",
    "    #prob = mat[last, y]\n",
    "    #loss += torch.log(prob)\n",
    "    last = int(y.item())\n",
    "\n",
    "    if y == 1:\n",
    "        break\n",
    "    ix += 1\n",
    "    out += itc[last]\n",
    "mat[1, y]\n",
    "#loss /= -ix\n",
    "print(f\"{out=}\")\n"
   ]
  },
  {
   "cell_type": "code",
   "execution_count": null,
   "id": "3cd0b85d-061b-413d-b92f-1fd3599fabd5",
   "metadata": {},
   "outputs": [],
   "source": []
  },
  {
   "cell_type": "code",
   "execution_count": null,
   "id": "c33ad779-8fcd-4213-b7e6-cb1480f677a4",
   "metadata": {},
   "outputs": [],
   "source": []
  },
  {
   "cell_type": "code",
   "execution_count": null,
   "id": "991097fe-1de8-483a-8216-f09ca1850a77",
   "metadata": {},
   "outputs": [],
   "source": []
  },
  {
   "cell_type": "code",
   "execution_count": null,
   "id": "f2944f01-5c9f-49d8-9ce4-e35decb58d4d",
   "metadata": {},
   "outputs": [],
   "source": []
  },
  {
   "cell_type": "code",
   "execution_count": null,
   "id": "7ef6dbad-47b6-44f2-be2a-40537f6d5ef5",
   "metadata": {},
   "outputs": [],
   "source": []
  },
  {
   "cell_type": "code",
   "execution_count": null,
   "id": "762752a6-d87b-441f-bdac-e9fabf272568",
   "metadata": {},
   "outputs": [],
   "source": []
  },
  {
   "cell_type": "code",
   "execution_count": null,
   "id": "a664ad7f-cc20-4179-a28a-a903c258a94b",
   "metadata": {},
   "outputs": [],
   "source": []
  },
  {
   "cell_type": "code",
   "execution_count": null,
   "id": "b94b5725-4f59-4cdf-b7cf-15903b6aa06d",
   "metadata": {},
   "outputs": [],
   "source": []
  }
 ],
 "metadata": {
  "kernelspec": {
   "display_name": "Python 3 (ipykernel)",
   "language": "python",
   "name": "python3"
  },
  "language_info": {
   "codemirror_mode": {
    "name": "ipython",
    "version": 3
   },
   "file_extension": ".py",
   "mimetype": "text/x-python",
   "name": "python",
   "nbconvert_exporter": "python",
   "pygments_lexer": "ipython3",
   "version": "3.13.7"
  }
 },
 "nbformat": 4,
 "nbformat_minor": 5
}
